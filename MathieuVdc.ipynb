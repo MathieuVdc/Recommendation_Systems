{
 "cells": [
  {
   "cell_type": "markdown",
   "metadata": {},
   "source": [
    "# Mathieu VANDECASTEELE - Systeme de recommandation"
   ]
  },
  {
   "cell_type": "code",
   "execution_count": 1,
   "metadata": {},
   "outputs": [],
   "source": [
    "import scipy.io as io\n",
    "import numpy as np\n",
    "from sklearn.model_selection import train_test_split"
   ]
  },
  {
   "cell_type": "code",
   "execution_count": 2,
   "metadata": {},
   "outputs": [],
   "source": [
    "import pandas as pd\n",
    "from numpy import random\n",
    "import scipy\n",
    "import scipy.sparse"
   ]
  },
  {
   "cell_type": "code",
   "execution_count": 3,
   "metadata": {},
   "outputs": [],
   "source": [
    "data_shape = (943, 1682)"
   ]
  },
  {
   "cell_type": "code",
   "execution_count": 4,
   "metadata": {},
   "outputs": [],
   "source": [
    "df = pd.read_csv(\"u.data\", sep=\"\\t\", header=-1)\n",
    "values = df.values\n",
    "values[:, 0:2] -= 1"
   ]
  },
  {
   "cell_type": "code",
   "execution_count": 5,
   "metadata": {},
   "outputs": [],
   "source": [
    "ind = np.random.permutation(range(100000))\n",
    "inda = ind[0:90000]\n",
    "indt = ind[90001:100000]"
   ]
  },
  {
   "cell_type": "code",
   "execution_count": 6,
   "metadata": {},
   "outputs": [],
   "source": [
    "M = scipy.sparse.csr_matrix((values[:, 2], (values[:, 0], values[:, 1])), dtype=np.float, shape=data_shape)\n",
    "Ma = scipy.sparse.csr_matrix((values[inda, 2], (values[inda, 0], values[inda, 1])), dtype=np.float, shape=data_shape)\n",
    "Mt = scipy.sparse.csr_matrix((values[indt, 2], (values[indt, 0], values[indt, 1])), dtype=np.float, shape=data_shape)\n",
    "\n",
    "nt = np.sum(Mt>.5)\n"
   ]
  },
  {
   "cell_type": "code",
   "execution_count": 7,
   "metadata": {},
   "outputs": [
    {
     "name": "stdout",
     "output_type": "stream",
     "text": [
      "moyenne : 3.531\n"
     ]
    }
   ],
   "source": [
    "moy = np.sum(Ma)/np.sum(Ma>.5)\n",
    "print('moyenne : {0:.3f}'.format(moy))"
   ]
  },
  {
   "cell_type": "code",
   "execution_count": 8,
   "metadata": {},
   "outputs": [],
   "source": [
    "Mask = Ma>.5\n",
    "Maskt = Mt>.5"
   ]
  },
  {
   "cell_type": "code",
   "execution_count": 9,
   "metadata": {},
   "outputs": [
    {
     "name": "stdout",
     "output_type": "stream",
     "text": [
      "Erreur de base : 1.273\n"
     ]
    }
   ],
   "source": [
    "Merr = Mt - Maskt.multiply(moy)\n",
    "err = np.sum(Merr.power(2))/nt\n",
    "print('Erreur de base : {0:.3f}'.format(err))"
   ]
  },
  {
   "cell_type": "code",
   "execution_count": 10,
   "metadata": {},
   "outputs": [],
   "source": [
    "Mc = Ma - moy*Mask\n",
    "Mt = Mt - moy*Maskt"
   ]
  },
  {
   "cell_type": "code",
   "execution_count": 11,
   "metadata": {},
   "outputs": [],
   "source": [
    "U,D,Vt = scipy.sparse.linalg.svds(Mc,k=50)\n",
    "U = U[:, ::-1]\n",
    "D = D[:: -1]\n",
    "Vt = Vt[::-1, :]"
   ]
  },
  {
   "cell_type": "markdown",
   "metadata": {},
   "source": [
    "### SVD"
   ]
  },
  {
   "cell_type": "code",
   "execution_count": 12,
   "metadata": {},
   "outputs": [
    {
     "name": "stdout",
     "output_type": "stream",
     "text": [
      "\n",
      " temps de calcul : 0.168\n"
     ]
    }
   ],
   "source": [
    "# SVD\n",
    "from time import time\n",
    "p = 20\n",
    "err = np.zeros(p)\n",
    "t0 = time()\n",
    "for i in range(1,p+1):\n",
    "    Mh = (U[:,0:i]@np.diag(D[0:i]))@Vt[0:i,:]\n",
    "    Merr = Mt - Maskt.multiply(Mh)\n",
    "    err[i-1] = np.sum(Merr.power(2))/nt\n",
    "t1 = time()\n",
    "print('\\n temps de calcul : {0:.3f}'.format( t1 - t0 ))"
   ]
  },
  {
   "cell_type": "code",
   "execution_count": 17,
   "metadata": {},
   "outputs": [
    {
     "data": {
      "image/png": "[encoded data removed]",
      "text/plain": [
       "<Figure size 432x288 with 1 Axes>"
      ]
     },
     "metadata": {
      "needs_background": "light"
     },
     "output_type": "display_data"
    }
   ],
   "source": [
    "import matplotlib.pyplot as plt\n",
    "plt.figure()\n",
    "plt.plot(err,'o-')\n",
    "plt.grid(True)\n",
    "plt.xticks(np.arange(1, p, step=2))\n",
    "plt.show()"
   ]
  },
  {
   "cell_type": "code",
   "execution_count": 14,
   "metadata": {},
   "outputs": [
    {
     "name": "stdout",
     "output_type": "stream",
     "text": [
      "11\n"
     ]
    }
   ],
   "source": [
    "nb_opt_factors = err.argmin()\n",
    "print(nb_opt_factors)"
   ]
  },
  {
   "cell_type": "markdown",
   "metadata": {},
   "source": [
    "### SVD Pondérée"
   ]
  },
  {
   "cell_type": "code",
   "execution_count": 15,
   "metadata": {},
   "outputs": [
    {
     "name": "stdout",
     "output_type": "stream",
     "text": [
      "\n",
      " temps de calcul : 113.296\n"
     ]
    }
   ],
   "source": [
    "#SVD Pondérée\n",
    "Mest = 0*Mc\n",
    "errw = np.zeros(p)\n",
    "un = np.ones((943,1682))\n",
    "un_m_Mask = scipy.sparse.csr_matrix(un-Mask)\n",
    "p = 20\n",
    "t0 = time()\n",
    "for i in range(1,p+1):\n",
    "    for ii in range(1,30):\n",
    "        Y = Mc + un_m_Mask.multiply(Mest)\n",
    "        U,D,Vt = scipy.sparse.linalg.svds(Y,k=i)\n",
    "        Mest = (U@np.diag(D))@Vt\n",
    "    Merr = Mt - Maskt.multiply(Mest)\n",
    "    errw[i-1] = np.sum(Merr.power(2))/nt\n",
    "t1 = time()\n",
    "print('\\n temps de calcul : {0:.3f}'.format( t1 - t0 ))"
   ]
  },
  {
   "cell_type": "code",
   "execution_count": 16,
   "metadata": {},
   "outputs": [
    {
     "data": {
      "image/png": "[encoded data removed]",
      "text/plain": [
       "<Figure size 432x288 with 1 Axes>"
      ]
     },
     "metadata": {
      "needs_background": "light"
     },
     "output_type": "display_data"
    }
   ],
   "source": [
    "plt.plot(range(1,p+1),err,'o-')\n",
    "plt.plot(range(1,p+1),errw,'o-')\n",
    "plt.grid(True)\n",
    "plt.xticks(np.arange(1,p,step=2))\n",
    "plt.show()"
   ]
  }
 ],
 "metadata": {
  "kernelspec": {
   "display_name": "Python 3",
   "language": "python",
   "name": "python3"
  },
  "language_info": {
   "codemirror_mode": {
    "name": "ipython",
    "version": 3
   },
   "file_extension": ".py",
   "mimetype": "text/x-python",
   "name": "python",
   "nbconvert_exporter": "python",
   "pygments_lexer": "ipython3",
   "version": "3.6.6"
  }
 },
 "nbformat": 4,
 "nbformat_minor": 2
}
